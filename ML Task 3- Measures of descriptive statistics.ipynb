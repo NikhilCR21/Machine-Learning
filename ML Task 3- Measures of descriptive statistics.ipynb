{
 "cells": [
  {
   "cell_type": "markdown",
   "id": "10eea6d1-61e4-42b8-baea-cc32113c5355",
   "metadata": {},
   "source": [
    "# ML - Task3 - Data Preprocessing\n",
    "### Objective:\n",
    " The main objective of this project is to design and implement a robust data preprocessing system that addresses common challenges such as missing values, outliers, inconsistent formatting, and noise. By performing effective data preprocessing, the project aims to enhance the quality, reliability, and usefulness of the data for machine learning.\n",
    "### Dataset:                                                                                                                                                \n",
    "Dataset for Data preprocessing\n",
    "Key Components to be fulfilled:\n",
    "### Data Exploration:   \n",
    "Explore the data, list down the unique values in each feature and find its length. Perform the statistical analysis and renaming of the columns.\n",
    "### Data Cleaning: \n",
    "Find the missing and inappropriate values, treat them appropriately. Remove all duplicate rows. Find the outliers.\n",
    "Replace the value 0 in age as NaN\n",
    "Treat the null values in all columns using any measures(removing/ replace the values with mean/median/mode)\n",
    "### Data Analysis:\n",
    "Filter the data with age >40 and salary<5000\n",
    "Plot the chart with age and salary\n",
    "Count the number of people from each place and represent it visually\n",
    "### Data Encoding:\n",
    "Convert categorical variables into numerical representations using techniques such as one-hot encoding, label encoding, making them suitable for analysis by machine learning algorithms.\n",
    "### Feature Scaling: \n",
    "After the process of encoding, perform the scaling of the features using standardscaler and minmaxscaler."
   ]
  },
  {
   "cell_type": "markdown",
   "id": "b3360846-8d26-4fa6-962c-491659de2030",
   "metadata": {},
   "source": [
    "## IMPORT LIBRARIES"
   ]
  },
  {
   "cell_type": "code",
   "execution_count": 28,
   "id": "6ac258d3-a828-4905-971e-f510a2d644ff",
   "metadata": {},
   "outputs": [],
   "source": [
    "import numpy as np\n",
    "import pandas as pd\n",
    "import matplotlib.pyplot as plt \n",
    "import seaborn as sns\n",
    "from sklearn.preprocessing import OneHotEncoder,LabelEncoder,MinMaxScaler,StandardScaler"
   ]
  },
  {
   "cell_type": "code",
   "execution_count": 4,
   "id": "ae9c715b-c999-4bf8-bf3f-8d406584d092",
   "metadata": {},
   "outputs": [
    {
     "name": "stdout",
     "output_type": "stream",
     "text": [
      "Requirement already satisfied: scikit-learn in c:\\users\\nikhi\\appdata\\local\\programs\\python\\python311\\lib\\site-packages (1.5.0)\n",
      "Requirement already satisfied: numpy>=1.19.5 in c:\\users\\nikhi\\appdata\\local\\programs\\python\\python311\\lib\\site-packages (from scikit-learn) (1.26.2)\n",
      "Requirement already satisfied: scipy>=1.6.0 in c:\\users\\nikhi\\appdata\\local\\programs\\python\\python311\\lib\\site-packages (from scikit-learn) (1.13.1)\n",
      "Requirement already satisfied: joblib>=1.2.0 in c:\\users\\nikhi\\appdata\\local\\programs\\python\\python311\\lib\\site-packages (from scikit-learn) (1.4.2)\n",
      "Requirement already satisfied: threadpoolctl>=3.1.0 in c:\\users\\nikhi\\appdata\\local\\programs\\python\\python311\\lib\\site-packages (from scikit-learn) (3.5.0)\n",
      "Note: you may need to restart the kernel to use updated packages.\n"
     ]
    },
    {
     "name": "stderr",
     "output_type": "stream",
     "text": [
      "\n",
      "[notice] A new release of pip is available: 24.0 -> 24.1.2\n",
      "[notice] To update, run: python.exe -m pip install --upgrade pip\n"
     ]
    }
   ],
   "source": [
    "pip install scikit-learn"
   ]
  },
  {
   "cell_type": "code",
   "execution_count": 5,
   "id": "7b63b52b-cfb2-4bb8-b1b3-57b43a51a5b2",
   "metadata": {},
   "outputs": [
    {
     "data": {
      "text/html": [
       "<div>\n",
       "<style scoped>\n",
       "    .dataframe tbody tr th:only-of-type {\n",
       "        vertical-align: middle;\n",
       "    }\n",
       "\n",
       "    .dataframe tbody tr th {\n",
       "        vertical-align: top;\n",
       "    }\n",
       "\n",
       "    .dataframe thead th {\n",
       "        text-align: right;\n",
       "    }\n",
       "</style>\n",
       "<table border=\"1\" class=\"dataframe\">\n",
       "  <thead>\n",
       "    <tr style=\"text-align: right;\">\n",
       "      <th></th>\n",
       "      <th>Company</th>\n",
       "      <th>Age</th>\n",
       "      <th>Salary</th>\n",
       "      <th>Place</th>\n",
       "      <th>Country</th>\n",
       "      <th>Gender</th>\n",
       "    </tr>\n",
       "  </thead>\n",
       "  <tbody>\n",
       "    <tr>\n",
       "      <th>0</th>\n",
       "      <td>TCS</td>\n",
       "      <td>20.0</td>\n",
       "      <td>NaN</td>\n",
       "      <td>Chennai</td>\n",
       "      <td>India</td>\n",
       "      <td>0</td>\n",
       "    </tr>\n",
       "    <tr>\n",
       "      <th>1</th>\n",
       "      <td>Infosys</td>\n",
       "      <td>30.0</td>\n",
       "      <td>NaN</td>\n",
       "      <td>Mumbai</td>\n",
       "      <td>India</td>\n",
       "      <td>0</td>\n",
       "    </tr>\n",
       "    <tr>\n",
       "      <th>2</th>\n",
       "      <td>TCS</td>\n",
       "      <td>35.0</td>\n",
       "      <td>2300.0</td>\n",
       "      <td>Calcutta</td>\n",
       "      <td>India</td>\n",
       "      <td>0</td>\n",
       "    </tr>\n",
       "    <tr>\n",
       "      <th>3</th>\n",
       "      <td>Infosys</td>\n",
       "      <td>40.0</td>\n",
       "      <td>3000.0</td>\n",
       "      <td>Delhi</td>\n",
       "      <td>India</td>\n",
       "      <td>0</td>\n",
       "    </tr>\n",
       "    <tr>\n",
       "      <th>4</th>\n",
       "      <td>TCS</td>\n",
       "      <td>23.0</td>\n",
       "      <td>4000.0</td>\n",
       "      <td>Mumbai</td>\n",
       "      <td>India</td>\n",
       "      <td>0</td>\n",
       "    </tr>\n",
       "    <tr>\n",
       "      <th>...</th>\n",
       "      <td>...</td>\n",
       "      <td>...</td>\n",
       "      <td>...</td>\n",
       "      <td>...</td>\n",
       "      <td>...</td>\n",
       "      <td>...</td>\n",
       "    </tr>\n",
       "    <tr>\n",
       "      <th>143</th>\n",
       "      <td>TCS</td>\n",
       "      <td>33.0</td>\n",
       "      <td>9024.0</td>\n",
       "      <td>Calcutta</td>\n",
       "      <td>India</td>\n",
       "      <td>1</td>\n",
       "    </tr>\n",
       "    <tr>\n",
       "      <th>144</th>\n",
       "      <td>Infosys</td>\n",
       "      <td>22.0</td>\n",
       "      <td>8787.0</td>\n",
       "      <td>Calcutta</td>\n",
       "      <td>India</td>\n",
       "      <td>1</td>\n",
       "    </tr>\n",
       "    <tr>\n",
       "      <th>145</th>\n",
       "      <td>Infosys</td>\n",
       "      <td>44.0</td>\n",
       "      <td>4034.0</td>\n",
       "      <td>Delhi</td>\n",
       "      <td>India</td>\n",
       "      <td>1</td>\n",
       "    </tr>\n",
       "    <tr>\n",
       "      <th>146</th>\n",
       "      <td>TCS</td>\n",
       "      <td>33.0</td>\n",
       "      <td>5034.0</td>\n",
       "      <td>Mumbai</td>\n",
       "      <td>India</td>\n",
       "      <td>1</td>\n",
       "    </tr>\n",
       "    <tr>\n",
       "      <th>147</th>\n",
       "      <td>Infosys</td>\n",
       "      <td>22.0</td>\n",
       "      <td>8202.0</td>\n",
       "      <td>Cochin</td>\n",
       "      <td>India</td>\n",
       "      <td>0</td>\n",
       "    </tr>\n",
       "  </tbody>\n",
       "</table>\n",
       "<p>148 rows × 6 columns</p>\n",
       "</div>"
      ],
      "text/plain": [
       "     Company   Age  Salary     Place Country  Gender\n",
       "0        TCS  20.0     NaN   Chennai   India       0\n",
       "1    Infosys  30.0     NaN    Mumbai   India       0\n",
       "2        TCS  35.0  2300.0  Calcutta   India       0\n",
       "3    Infosys  40.0  3000.0     Delhi   India       0\n",
       "4        TCS  23.0  4000.0    Mumbai   India       0\n",
       "..       ...   ...     ...       ...     ...     ...\n",
       "143      TCS  33.0  9024.0  Calcutta   India       1\n",
       "144  Infosys  22.0  8787.0  Calcutta   India       1\n",
       "145  Infosys  44.0  4034.0     Delhi   India       1\n",
       "146      TCS  33.0  5034.0    Mumbai   India       1\n",
       "147  Infosys  22.0  8202.0    Cochin   India       0\n",
       "\n",
       "[148 rows x 6 columns]"
      ]
     },
     "execution_count": 5,
     "metadata": {},
     "output_type": "execute_result"
    }
   ],
   "source": [
    "df = pd.read_csv(\"Employee.csv\") \n",
    "df"
   ]
  },
  {
   "cell_type": "markdown",
   "id": "b021ddc8-22bf-477f-9811-4582035b350a",
   "metadata": {},
   "source": [
    "## Data Cleaning"
   ]
  },
  {
   "cell_type": "code",
   "execution_count": 4,
   "id": "b71c7ef8-2d59-4e81-b614-134f2ea5aad1",
   "metadata": {},
   "outputs": [
    {
     "name": "stdout",
     "output_type": "stream",
     "text": [
      "<class 'pandas.core.frame.DataFrame'>\n",
      "RangeIndex: 148 entries, 0 to 147\n",
      "Data columns (total 6 columns):\n",
      " #   Column   Non-Null Count  Dtype  \n",
      "---  ------   --------------  -----  \n",
      " 0   Company  140 non-null    object \n",
      " 1   Age      130 non-null    float64\n",
      " 2   Salary   124 non-null    float64\n",
      " 3   Place    134 non-null    object \n",
      " 4   Country  148 non-null    object \n",
      " 5   Gender   148 non-null    int64  \n",
      "dtypes: float64(2), int64(1), object(3)\n",
      "memory usage: 7.1+ KB\n"
     ]
    }
   ],
   "source": [
    "df.info()"
   ]
  },
  {
   "cell_type": "markdown",
   "id": "886f3645-6cfc-436f-a9b4-ff450b8b6893",
   "metadata": {},
   "source": [
    "columns country and gender has no null value, rest columns has null values"
   ]
  },
  {
   "cell_type": "code",
   "execution_count": 9,
   "id": "d9f42f55-43b1-473b-9dfd-33fb9df788a5",
   "metadata": {},
   "outputs": [
    {
     "data": {
      "text/html": [
       "<div>\n",
       "<style scoped>\n",
       "    .dataframe tbody tr th:only-of-type {\n",
       "        vertical-align: middle;\n",
       "    }\n",
       "\n",
       "    .dataframe tbody tr th {\n",
       "        vertical-align: top;\n",
       "    }\n",
       "\n",
       "    .dataframe thead th {\n",
       "        text-align: right;\n",
       "    }\n",
       "</style>\n",
       "<table border=\"1\" class=\"dataframe\">\n",
       "  <thead>\n",
       "    <tr style=\"text-align: right;\">\n",
       "      <th></th>\n",
       "      <th>Age</th>\n",
       "      <th>Salary</th>\n",
       "      <th>Gender</th>\n",
       "    </tr>\n",
       "  </thead>\n",
       "  <tbody>\n",
       "    <tr>\n",
       "      <th>count</th>\n",
       "      <td>130.000000</td>\n",
       "      <td>124.000000</td>\n",
       "      <td>148.000000</td>\n",
       "    </tr>\n",
       "    <tr>\n",
       "      <th>mean</th>\n",
       "      <td>30.484615</td>\n",
       "      <td>5312.467742</td>\n",
       "      <td>0.222973</td>\n",
       "    </tr>\n",
       "    <tr>\n",
       "      <th>std</th>\n",
       "      <td>11.096640</td>\n",
       "      <td>2573.764683</td>\n",
       "      <td>0.417654</td>\n",
       "    </tr>\n",
       "    <tr>\n",
       "      <th>min</th>\n",
       "      <td>0.000000</td>\n",
       "      <td>1089.000000</td>\n",
       "      <td>0.000000</td>\n",
       "    </tr>\n",
       "    <tr>\n",
       "      <th>25%</th>\n",
       "      <td>22.000000</td>\n",
       "      <td>3030.000000</td>\n",
       "      <td>0.000000</td>\n",
       "    </tr>\n",
       "    <tr>\n",
       "      <th>50%</th>\n",
       "      <td>32.500000</td>\n",
       "      <td>5000.000000</td>\n",
       "      <td>0.000000</td>\n",
       "    </tr>\n",
       "    <tr>\n",
       "      <th>75%</th>\n",
       "      <td>37.750000</td>\n",
       "      <td>8000.000000</td>\n",
       "      <td>0.000000</td>\n",
       "    </tr>\n",
       "    <tr>\n",
       "      <th>max</th>\n",
       "      <td>54.000000</td>\n",
       "      <td>9876.000000</td>\n",
       "      <td>1.000000</td>\n",
       "    </tr>\n",
       "  </tbody>\n",
       "</table>\n",
       "</div>"
      ],
      "text/plain": [
       "              Age       Salary      Gender\n",
       "count  130.000000   124.000000  148.000000\n",
       "mean    30.484615  5312.467742    0.222973\n",
       "std     11.096640  2573.764683    0.417654\n",
       "min      0.000000  1089.000000    0.000000\n",
       "25%     22.000000  3030.000000    0.000000\n",
       "50%     32.500000  5000.000000    0.000000\n",
       "75%     37.750000  8000.000000    0.000000\n",
       "max     54.000000  9876.000000    1.000000"
      ]
     },
     "execution_count": 9,
     "metadata": {},
     "output_type": "execute_result"
    }
   ],
   "source": [
    "df.describe()"
   ]
  },
  {
   "cell_type": "markdown",
   "id": "892dbfa7-026d-42a7-9693-7fda62c437bb",
   "metadata": {},
   "source": [
    "There is a small difference between mean and median so we can come to a conclusion that we have less outliers "
   ]
  },
  {
   "cell_type": "code",
   "execution_count": 10,
   "id": "0ece7d94-fd84-45a8-8884-f9e1cf5eafb5",
   "metadata": {},
   "outputs": [
    {
     "data": {
      "text/plain": [
       "(148, 6)"
      ]
     },
     "execution_count": 10,
     "metadata": {},
     "output_type": "execute_result"
    }
   ],
   "source": [
    "df.shape"
   ]
  },
  {
   "cell_type": "code",
   "execution_count": 6,
   "id": "e67a398c-4f86-4ab9-ae06-d19458640cc6",
   "metadata": {},
   "outputs": [
    {
     "data": {
      "text/plain": [
       "4"
      ]
     },
     "execution_count": 6,
     "metadata": {},
     "output_type": "execute_result"
    }
   ],
   "source": [
    "df.duplicated().sum()"
   ]
  },
  {
   "cell_type": "code",
   "execution_count": 7,
   "id": "a6cda957-72dc-42a0-b42e-75f56e37878c",
   "metadata": {},
   "outputs": [],
   "source": [
    "df.drop_duplicates(inplace= True)"
   ]
  },
  {
   "cell_type": "code",
   "execution_count": 8,
   "id": "b9c13edd-25eb-457e-9122-70adda8fd37c",
   "metadata": {},
   "outputs": [
    {
     "name": "stdout",
     "output_type": "stream",
     "text": [
      "Unique values of each columns are given below -\n",
      "\n",
      "Company:\n",
      " ['TCS' 'Infosys' 'CTS' nan 'Tata Consultancy Services' 'Congnizant'\n",
      " 'Infosys Pvt Lmt']\n",
      "\n",
      " Length of company: 7\n",
      "\n",
      "Age:\n",
      " [20. 30. 35. 40. 23. nan 34. 45. 18. 22. 32. 37. 50. 21. 46. 36. 26. 41.\n",
      " 24. 25. 43. 19. 38. 51. 31. 44. 33. 17.  0. 54.]\n",
      "\n",
      " Length of Age: 30\n",
      "\n",
      "Salary:\n",
      " [  nan 2300. 3000. 4000. 5000. 6000. 7000. 8000. 9000. 1089. 1234. 3030.\n",
      " 3045. 3184. 4824. 5835. 7084. 8943. 8345. 9284. 9876. 2034. 7654. 2934.\n",
      " 4034. 5034. 8202. 9024. 4345. 6544. 6543. 3234. 4324. 5435. 5555. 8787.\n",
      " 3454. 5654. 5009. 5098. 3033.]\n",
      "\n",
      " Length of Salary: 41\n",
      "\n",
      "Gender:\n",
      " [0 1]\n",
      "\n",
      " Length of Gender: 2\n",
      "\n",
      "Place:\n",
      " ['Chennai' 'Mumbai' 'Calcutta' 'Delhi' 'Podicherry' 'Cochin' nan 'Noida'\n",
      " 'Hyderabad' 'Bhopal' 'Nagpur' 'Pune']\n",
      "\n",
      " Length of Place : 12\n",
      "\n",
      "Country:\n",
      " ['India']\n",
      "\n",
      " Length of Country: 1\n"
     ]
    }
   ],
   "source": [
    "print(\"Unique values of each columns are given below -\")\n",
    "print(\"\\nCompany:\\n\", df.Company.unique())\n",
    "print(\"\\n Length of company:\" ,len(df.Company.unique()))\n",
    "print(\"\\nAge:\\n\", df.Age.unique())\n",
    "print(\"\\n Length of Age:\" ,len(df.Age.unique()))\n",
    "print(\"\\nSalary:\\n\", df.Salary.unique())\n",
    "print(\"\\n Length of Salary:\" ,len(df.Salary.unique()))\n",
    "print(\"\\nGender:\\n\", df.Gender.unique())\n",
    "print(\"\\n Length of Gender:\" ,len(df.Gender.unique()))\n",
    "print(\"\\nPlace:\\n\", df.Place.unique()) \n",
    "print(\"\\n Length of Place :\" ,len(df.Place.unique()))\n",
    "print(\"\\nCountry:\\n\", df.Country.unique())\n",
    "print(\"\\n Length of Country:\" ,len(df.Country.unique()))"
   ]
  },
  {
   "cell_type": "code",
   "execution_count": 9,
   "id": "1bb6d91f-2d71-4ef2-ae38-f6d9865993ed",
   "metadata": {},
   "outputs": [],
   "source": [
    "df.replace('Podicherry','Pondicherry',inplace=True)"
   ]
  },
  {
   "cell_type": "code",
   "execution_count": 9,
   "id": "a952e34f-f042-463e-95f1-1e5be8db45c6",
   "metadata": {},
   "outputs": [
    {
     "data": {
      "text/plain": [
       "Index(['Company', 'Age', 'Salary', 'Place', 'Country', 'Gender'], dtype='object')"
      ]
     },
     "execution_count": 9,
     "metadata": {},
     "output_type": "execute_result"
    }
   ],
   "source": [
    "df.columns"
   ]
  },
  {
   "cell_type": "code",
   "execution_count": 10,
   "id": "a92d4ca4-2634-4c7b-a9f3-944cf6989afa",
   "metadata": {},
   "outputs": [],
   "source": [
    "df['Age'].replace(0, pd.NA, inplace=True)"
   ]
  },
  {
   "cell_type": "code",
   "execution_count": 11,
   "id": "20fe5c60-3023-4d75-b3e1-c48f71511dfa",
   "metadata": {},
   "outputs": [
    {
     "data": {
      "text/plain": [
       "Company     8\n",
       "Age        23\n",
       "Salary     23\n",
       "Place      14\n",
       "Country     0\n",
       "Gender      0\n",
       "dtype: int64"
      ]
     },
     "execution_count": 11,
     "metadata": {},
     "output_type": "execute_result"
    }
   ],
   "source": [
    "df.isnull().sum()"
   ]
  },
  {
   "cell_type": "code",
   "execution_count": 12,
   "id": "af70b01b-1574-4442-886c-e68c96343e49",
   "metadata": {},
   "outputs": [],
   "source": [
    "df.drop(columns=['Country'], inplace=True)"
   ]
  },
  {
   "cell_type": "code",
   "execution_count": 13,
   "id": "00e24766-5a08-44ce-b80b-a58a634c26b2",
   "metadata": {},
   "outputs": [
    {
     "data": {
      "image/png": "[encoded data removed]",
      "text/plain": [
       "<Figure size 640x480 with 1 Axes>"
      ]
     },
     "metadata": {},
     "output_type": "display_data"
    },
    {
     "data": {
      "image/png": "[encoded data removed]",
      "text/plain": [
       "<Figure size 640x480 with 1 Axes>"
      ]
     },
     "metadata": {},
     "output_type": "display_data"
    }
   ],
   "source": [
    "sns.boxplot(df.Age)\n",
    "plt.show()\n",
    "\n",
    "sns.boxplot(df.Salary) \n",
    "plt.show()"
   ]
  },
  {
   "cell_type": "markdown",
   "id": "93f5c981-aa79-422c-916d-6dbc007b40f4",
   "metadata": {},
   "source": [
    "From the box plot it is evident that there is no outliers in the numerical columns. We can use mean values to fill the null values in numerical columns."
   ]
  },
  {
   "cell_type": "code",
   "execution_count": 14,
   "id": "b66bb64c-f0d6-4b4f-81e3-29113dfd349b",
   "metadata": {},
   "outputs": [],
   "source": [
    "df['Gender'].replace({0: 'M', 1: 'F'}, inplace=True)"
   ]
  },
  {
   "cell_type": "code",
   "execution_count": 15,
   "id": "f6172445-78ec-4c85-8342-48f32d071c77",
   "metadata": {},
   "outputs": [
    {
     "data": {
      "text/plain": [
       "Company    0\n",
       "Age        0\n",
       "Salary     0\n",
       "Place      0\n",
       "Gender     0\n",
       "dtype: int64"
      ]
     },
     "execution_count": 15,
     "metadata": {},
     "output_type": "execute_result"
    }
   ],
   "source": [
    "df.Company.fillna(df.Company.mode()[0], inplace = True)\n",
    "df.Salary.fillna(df.Salary.mean().round(2), inplace = True)\n",
    "df.Place.fillna(df.Place.mode()[0], inplace = True)\n",
    "df.Age.fillna(df.Age.mean().round(2), inplace = True) \n",
    "df.isnull().sum()"
   ]
  },
  {
   "cell_type": "markdown",
   "id": "acdb3463-07f2-4128-bf48-835a58e19bd7",
   "metadata": {},
   "source": [
    "None of the columns have null values in them "
   ]
  },
  {
   "cell_type": "code",
   "execution_count": 16,
   "id": "00250ba0-ba2a-4523-b1e6-bbe8670175c3",
   "metadata": {},
   "outputs": [
    {
     "name": "stdout",
     "output_type": "stream",
     "text": [
      "Unique values of each columns are given below -\n",
      "\n",
      "Company:\n",
      " ['TCS' 'Infosys' 'CTS' 'Tata Consultancy Services' 'Congnizant'\n",
      " 'Infosys Pvt Lmt']\n",
      "\n",
      " Length of company: 6\n",
      "\n",
      "Age:\n",
      " [20.   30.   35.   40.   23.   32.04 34.   45.   18.   22.   32.   37.\n",
      " 50.   21.   46.   36.   26.   41.   24.   25.   43.   19.   38.   51.\n",
      " 31.   44.   33.   17.   54.  ]\n",
      "\n",
      " Length of Age: 29\n",
      "\n",
      "Salary:\n",
      " [5283.47 2300.   3000.   4000.   5000.   6000.   7000.   8000.   9000.\n",
      " 1089.   1234.   3030.   3045.   3184.   4824.   5835.   7084.   8943.\n",
      " 8345.   9284.   9876.   2034.   7654.   2934.   4034.   5034.   8202.\n",
      " 9024.   4345.   6544.   6543.   3234.   4324.   5435.   5555.   8787.\n",
      " 3454.   5654.   5009.   5098.   3033.  ]\n",
      "\n",
      " Length of Salary: 41\n",
      "\n",
      "Gender:\n",
      " ['M' 'F']\n",
      "\n",
      " Length of Gender: 2\n",
      "\n",
      "Place:\n",
      " ['Chennai' 'Mumbai' 'Calcutta' 'Delhi' 'Pondicherry' 'Cochin' 'Noida'\n",
      " 'Hyderabad' 'Bhopal' 'Nagpur' 'Pune']\n",
      "\n",
      " Length of Place : 11\n"
     ]
    }
   ],
   "source": [
    "print(\"Unique values of each columns are given below -\")\n",
    "print(\"\\nCompany:\\n\", df.Company.unique())\n",
    "print(\"\\n Length of company:\" ,len(df.Company.unique()))\n",
    "print(\"\\nAge:\\n\", df.Age.unique())\n",
    "print(\"\\n Length of Age:\" ,len(df.Age.unique()))\n",
    "print(\"\\nSalary:\\n\", df.Salary.unique())\n",
    "print(\"\\n Length of Salary:\" ,len(df.Salary.unique()))\n",
    "print(\"\\nGender:\\n\", df.Gender.unique())\n",
    "print(\"\\n Length of Gender:\" ,len(df.Gender.unique()))\n",
    "print(\"\\nPlace:\\n\", df.Place.unique()) \n",
    "print(\"\\n Length of Place :\" ,len(df.Place.unique()))"
   ]
  },
  {
   "cell_type": "markdown",
   "id": "87f20f16-4d64-4b21-b717-7395653e1a21",
   "metadata": {},
   "source": [
    "## Data Analysis"
   ]
  },
  {
   "cell_type": "code",
   "execution_count": 17,
   "id": "581a28a0-f852-4600-9337-16fa3b57b688",
   "metadata": {},
   "outputs": [
    {
     "data": {
      "text/html": [
       "<div>\n",
       "<style scoped>\n",
       "    .dataframe tbody tr th:only-of-type {\n",
       "        vertical-align: middle;\n",
       "    }\n",
       "\n",
       "    .dataframe tbody tr th {\n",
       "        vertical-align: top;\n",
       "    }\n",
       "\n",
       "    .dataframe thead th {\n",
       "        text-align: right;\n",
       "    }\n",
       "</style>\n",
       "<table border=\"1\" class=\"dataframe\">\n",
       "  <thead>\n",
       "    <tr style=\"text-align: right;\">\n",
       "      <th></th>\n",
       "      <th>Company</th>\n",
       "      <th>Age</th>\n",
       "      <th>Salary</th>\n",
       "      <th>Place</th>\n",
       "      <th>Gender</th>\n",
       "    </tr>\n",
       "  </thead>\n",
       "  <tbody>\n",
       "    <tr>\n",
       "      <th>21</th>\n",
       "      <td>Infosys</td>\n",
       "      <td>50.0</td>\n",
       "      <td>3184.0</td>\n",
       "      <td>Delhi</td>\n",
       "      <td>M</td>\n",
       "    </tr>\n",
       "    <tr>\n",
       "      <th>32</th>\n",
       "      <td>Infosys</td>\n",
       "      <td>45.0</td>\n",
       "      <td>4034.0</td>\n",
       "      <td>Calcutta</td>\n",
       "      <td>M</td>\n",
       "    </tr>\n",
       "    <tr>\n",
       "      <th>39</th>\n",
       "      <td>Infosys</td>\n",
       "      <td>41.0</td>\n",
       "      <td>3000.0</td>\n",
       "      <td>Mumbai</td>\n",
       "      <td>M</td>\n",
       "    </tr>\n",
       "    <tr>\n",
       "      <th>50</th>\n",
       "      <td>Infosys</td>\n",
       "      <td>41.0</td>\n",
       "      <td>3000.0</td>\n",
       "      <td>Chennai</td>\n",
       "      <td>M</td>\n",
       "    </tr>\n",
       "    <tr>\n",
       "      <th>57</th>\n",
       "      <td>Infosys</td>\n",
       "      <td>51.0</td>\n",
       "      <td>3184.0</td>\n",
       "      <td>Hyderabad</td>\n",
       "      <td>M</td>\n",
       "    </tr>\n",
       "    <tr>\n",
       "      <th>68</th>\n",
       "      <td>Infosys</td>\n",
       "      <td>43.0</td>\n",
       "      <td>4034.0</td>\n",
       "      <td>Mumbai</td>\n",
       "      <td>M</td>\n",
       "    </tr>\n",
       "    <tr>\n",
       "      <th>75</th>\n",
       "      <td>Infosys</td>\n",
       "      <td>44.0</td>\n",
       "      <td>3000.0</td>\n",
       "      <td>Cochin</td>\n",
       "      <td>M</td>\n",
       "    </tr>\n",
       "    <tr>\n",
       "      <th>86</th>\n",
       "      <td>Infosys</td>\n",
       "      <td>41.0</td>\n",
       "      <td>3000.0</td>\n",
       "      <td>Delhi</td>\n",
       "      <td>M</td>\n",
       "    </tr>\n",
       "    <tr>\n",
       "      <th>93</th>\n",
       "      <td>Infosys</td>\n",
       "      <td>54.0</td>\n",
       "      <td>3184.0</td>\n",
       "      <td>Mumbai</td>\n",
       "      <td>M</td>\n",
       "    </tr>\n",
       "    <tr>\n",
       "      <th>104</th>\n",
       "      <td>Infosys</td>\n",
       "      <td>44.0</td>\n",
       "      <td>4034.0</td>\n",
       "      <td>Delhi</td>\n",
       "      <td>M</td>\n",
       "    </tr>\n",
       "    <tr>\n",
       "      <th>122</th>\n",
       "      <td>Infosys</td>\n",
       "      <td>44.0</td>\n",
       "      <td>3234.0</td>\n",
       "      <td>Mumbai</td>\n",
       "      <td>M</td>\n",
       "    </tr>\n",
       "    <tr>\n",
       "      <th>129</th>\n",
       "      <td>Infosys</td>\n",
       "      <td>50.0</td>\n",
       "      <td>3184.0</td>\n",
       "      <td>Calcutta</td>\n",
       "      <td>M</td>\n",
       "    </tr>\n",
       "    <tr>\n",
       "      <th>138</th>\n",
       "      <td>CTS</td>\n",
       "      <td>44.0</td>\n",
       "      <td>3033.0</td>\n",
       "      <td>Cochin</td>\n",
       "      <td>M</td>\n",
       "    </tr>\n",
       "    <tr>\n",
       "      <th>140</th>\n",
       "      <td>Infosys</td>\n",
       "      <td>44.0</td>\n",
       "      <td>4034.0</td>\n",
       "      <td>Hyderabad</td>\n",
       "      <td>M</td>\n",
       "    </tr>\n",
       "    <tr>\n",
       "      <th>145</th>\n",
       "      <td>Infosys</td>\n",
       "      <td>44.0</td>\n",
       "      <td>4034.0</td>\n",
       "      <td>Delhi</td>\n",
       "      <td>F</td>\n",
       "    </tr>\n",
       "  </tbody>\n",
       "</table>\n",
       "</div>"
      ],
      "text/plain": [
       "     Company   Age  Salary      Place Gender\n",
       "21   Infosys  50.0  3184.0      Delhi      M\n",
       "32   Infosys  45.0  4034.0   Calcutta      M\n",
       "39   Infosys  41.0  3000.0     Mumbai      M\n",
       "50   Infosys  41.0  3000.0    Chennai      M\n",
       "57   Infosys  51.0  3184.0  Hyderabad      M\n",
       "68   Infosys  43.0  4034.0     Mumbai      M\n",
       "75   Infosys  44.0  3000.0     Cochin      M\n",
       "86   Infosys  41.0  3000.0      Delhi      M\n",
       "93   Infosys  54.0  3184.0     Mumbai      M\n",
       "104  Infosys  44.0  4034.0      Delhi      M\n",
       "122  Infosys  44.0  3234.0     Mumbai      M\n",
       "129  Infosys  50.0  3184.0   Calcutta      M\n",
       "138      CTS  44.0  3033.0     Cochin      M\n",
       "140  Infosys  44.0  4034.0  Hyderabad      M\n",
       "145  Infosys  44.0  4034.0      Delhi      F"
      ]
     },
     "execution_count": 17,
     "metadata": {},
     "output_type": "execute_result"
    }
   ],
   "source": [
    "df1 = df[(df[\"Age\"] > 40) & (df[\"Salary\"] < 5000)] \n",
    "df1"
   ]
  },
  {
   "cell_type": "code",
   "execution_count": 30,
   "id": "6f798bd9-9c62-49fa-a8fa-2cc6de502815",
   "metadata": {},
   "outputs": [
    {
     "data": {
      "image/png": "[encoded data removed]",
      "text/plain": [
       "<Figure size 640x480 with 2 Axes>"
      ]
     },
     "metadata": {},
     "output_type": "display_data"
    }
   ],
   "source": [
    "plot_df = df1.drop(['Company', 'Gender', 'Place'], axis='columns')\n",
    "corr = plot_df.corr()\n",
    "sns.heatmap(corr, annot=True, cmap=\"coolwarm\")\n",
    "plt.show()"
   ]
  },
  {
   "cell_type": "markdown",
   "id": "588805b3-659b-433b-b6cf-0b1097a52b17",
   "metadata": {},
   "source": [
    "There is no linear correlation between age and salary"
   ]
  },
  {
   "cell_type": "code",
   "execution_count": 18,
   "id": "eb10c7b3-7293-494d-9a5f-e9ef35920197",
   "metadata": {},
   "outputs": [
    {
     "data": {
      "image/png": "[encoded data removed]",
      "text/plain": [
       "<Figure size 800x600 with 1 Axes>"
      ]
     },
     "metadata": {},
     "output_type": "display_data"
    }
   ],
   "source": [
    "plt.figure(figsize=(8, 6))\n",
    "sns.scatterplot(x='Age', y='Salary', data=df1)\n",
    "plt.title('Age vs Salary for Age > 40 and Salary < 5000')\n",
    "plt.xlabel('Age')\n",
    "plt.ylabel('Salary')\n",
    "plt.show()"
   ]
  },
  {
   "cell_type": "code",
   "execution_count": 19,
   "id": "d8785bb1-19e0-4a41-8ce0-336dd1cb5645",
   "metadata": {},
   "outputs": [
    {
     "data": {
      "image/png": "[encoded data removed]",
      "text/plain": [
       "<Figure size 800x600 with 1 Axes>"
      ]
     },
     "metadata": {},
     "output_type": "display_data"
    }
   ],
   "source": [
    "place_counts = df1['Place'].value_counts()\n",
    "plt.figure(figsize=(8, 6))\n",
    "sns.barplot(x=place_counts.index, y=place_counts.values)\n",
    "plt.title('Number of People from Each Place for Age > 40 and Salary < 5000')\n",
    "plt.xlabel('Place')\n",
    "plt.ylabel('Count')\n",
    "plt.xticks(rotation=0)\n",
    "plt.show()"
   ]
  },
  {
   "cell_type": "code",
   "execution_count": 20,
   "id": "fb9b29c8-fdd9-45ca-a96b-0c95e54df68b",
   "metadata": {},
   "outputs": [
    {
     "data": {
      "text/plain": [
       "Place\n",
       "Delhi        4\n",
       "Mumbai       4\n",
       "Calcutta     2\n",
       "Hyderabad    2\n",
       "Cochin       2\n",
       "Chennai      1\n",
       "Name: count, dtype: int64"
      ]
     },
     "execution_count": 20,
     "metadata": {},
     "output_type": "execute_result"
    }
   ],
   "source": [
    "df1['Place'].value_counts()"
   ]
  },
  {
   "cell_type": "code",
   "execution_count": 21,
   "id": "384634ce-7924-4bb8-84e3-de22107f5d32",
   "metadata": {},
   "outputs": [
    {
     "data": {
      "image/png": "[encoded data removed]",
      "text/plain": [
       "<Figure size 640x480 with 1 Axes>"
      ]
     },
     "metadata": {},
     "output_type": "display_data"
    }
   ],
   "source": [
    "sns.countplot(df1.Place, color = 'olivedrab')\n",
    "plt.xlabel(\"No. of people\") \n",
    "plt.show()"
   ]
  },
  {
   "cell_type": "markdown",
   "id": "d5d8ae25-88f3-451a-8c7c-0f9037a88f8c",
   "metadata": {},
   "source": [
    "## Data Encoding"
   ]
  },
  {
   "cell_type": "code",
   "execution_count": 22,
   "id": "3f34068b-fb40-4b1e-8a9b-6138f45feb84",
   "metadata": {},
   "outputs": [],
   "source": [
    "df2=df.copy()"
   ]
  },
  {
   "cell_type": "code",
   "execution_count": 23,
   "id": "91d85b85-151c-4cd6-8e47-b834171766ae",
   "metadata": {},
   "outputs": [
    {
     "name": "stdout",
     "output_type": "stream",
     "text": [
      "     Company   Age   Salary  Place  Gender\n",
      "0          4  20.0  5283.47      2       1\n",
      "1          2  30.0  5283.47      6       1\n",
      "2          4  35.0  2300.00      1       1\n",
      "3          2  40.0  3000.00      4       1\n",
      "4          4  23.0  4000.00      6       1\n",
      "..       ...   ...      ...    ...     ...\n",
      "142        3  22.0  8202.00      6       1\n",
      "143        4  33.0  9024.00      1       0\n",
      "145        2  44.0  4034.00      4       0\n",
      "146        4  33.0  5034.00      6       0\n",
      "147        2  22.0  8202.00      3       1\n",
      "\n",
      "[144 rows x 5 columns]\n"
     ]
    }
   ],
   "source": [
    "from sklearn.preprocessing import LabelEncoder \n",
    "\n",
    "label_encoder = LabelEncoder() \n",
    "for i in df2.select_dtypes(include = [\"object\"]): \n",
    "    df2[i] = label_encoder.fit_transform(df2[i])\n",
    "print(df2)"
   ]
  },
  {
   "cell_type": "code",
   "execution_count": 31,
   "id": "a042fd18-b5e0-47e1-a932-28d4ba14d3b6",
   "metadata": {},
   "outputs": [
    {
     "data": {
      "text/html": [
       "<div>\n",
       "<style scoped>\n",
       "    .dataframe tbody tr th:only-of-type {\n",
       "        vertical-align: middle;\n",
       "    }\n",
       "\n",
       "    .dataframe tbody tr th {\n",
       "        vertical-align: top;\n",
       "    }\n",
       "\n",
       "    .dataframe thead th {\n",
       "        text-align: right;\n",
       "    }\n",
       "</style>\n",
       "<table border=\"1\" class=\"dataframe\">\n",
       "  <thead>\n",
       "    <tr style=\"text-align: right;\">\n",
       "      <th></th>\n",
       "      <th>Age</th>\n",
       "      <th>Salary</th>\n",
       "      <th>Company_CTS</th>\n",
       "      <th>Company_Infosys</th>\n",
       "      <th>Place_Calcutta</th>\n",
       "      <th>Place_Chennai</th>\n",
       "      <th>Place_Cochin</th>\n",
       "      <th>Place_Delhi</th>\n",
       "      <th>Place_Hyderabad</th>\n",
       "      <th>Place_Mumbai</th>\n",
       "      <th>Gender_F</th>\n",
       "      <th>Gender_M</th>\n",
       "    </tr>\n",
       "  </thead>\n",
       "  <tbody>\n",
       "    <tr>\n",
       "      <th>21</th>\n",
       "      <td>50.0</td>\n",
       "      <td>3184.0</td>\n",
       "      <td>False</td>\n",
       "      <td>True</td>\n",
       "      <td>False</td>\n",
       "      <td>False</td>\n",
       "      <td>False</td>\n",
       "      <td>True</td>\n",
       "      <td>False</td>\n",
       "      <td>False</td>\n",
       "      <td>False</td>\n",
       "      <td>True</td>\n",
       "    </tr>\n",
       "    <tr>\n",
       "      <th>32</th>\n",
       "      <td>45.0</td>\n",
       "      <td>4034.0</td>\n",
       "      <td>False</td>\n",
       "      <td>True</td>\n",
       "      <td>True</td>\n",
       "      <td>False</td>\n",
       "      <td>False</td>\n",
       "      <td>False</td>\n",
       "      <td>False</td>\n",
       "      <td>False</td>\n",
       "      <td>False</td>\n",
       "      <td>True</td>\n",
       "    </tr>\n",
       "    <tr>\n",
       "      <th>39</th>\n",
       "      <td>41.0</td>\n",
       "      <td>3000.0</td>\n",
       "      <td>False</td>\n",
       "      <td>True</td>\n",
       "      <td>False</td>\n",
       "      <td>False</td>\n",
       "      <td>False</td>\n",
       "      <td>False</td>\n",
       "      <td>False</td>\n",
       "      <td>True</td>\n",
       "      <td>False</td>\n",
       "      <td>True</td>\n",
       "    </tr>\n",
       "    <tr>\n",
       "      <th>50</th>\n",
       "      <td>41.0</td>\n",
       "      <td>3000.0</td>\n",
       "      <td>False</td>\n",
       "      <td>True</td>\n",
       "      <td>False</td>\n",
       "      <td>True</td>\n",
       "      <td>False</td>\n",
       "      <td>False</td>\n",
       "      <td>False</td>\n",
       "      <td>False</td>\n",
       "      <td>False</td>\n",
       "      <td>True</td>\n",
       "    </tr>\n",
       "    <tr>\n",
       "      <th>57</th>\n",
       "      <td>51.0</td>\n",
       "      <td>3184.0</td>\n",
       "      <td>False</td>\n",
       "      <td>True</td>\n",
       "      <td>False</td>\n",
       "      <td>False</td>\n",
       "      <td>False</td>\n",
       "      <td>False</td>\n",
       "      <td>True</td>\n",
       "      <td>False</td>\n",
       "      <td>False</td>\n",
       "      <td>True</td>\n",
       "    </tr>\n",
       "    <tr>\n",
       "      <th>68</th>\n",
       "      <td>43.0</td>\n",
       "      <td>4034.0</td>\n",
       "      <td>False</td>\n",
       "      <td>True</td>\n",
       "      <td>False</td>\n",
       "      <td>False</td>\n",
       "      <td>False</td>\n",
       "      <td>False</td>\n",
       "      <td>False</td>\n",
       "      <td>True</td>\n",
       "      <td>False</td>\n",
       "      <td>True</td>\n",
       "    </tr>\n",
       "    <tr>\n",
       "      <th>75</th>\n",
       "      <td>44.0</td>\n",
       "      <td>3000.0</td>\n",
       "      <td>False</td>\n",
       "      <td>True</td>\n",
       "      <td>False</td>\n",
       "      <td>False</td>\n",
       "      <td>True</td>\n",
       "      <td>False</td>\n",
       "      <td>False</td>\n",
       "      <td>False</td>\n",
       "      <td>False</td>\n",
       "      <td>True</td>\n",
       "    </tr>\n",
       "    <tr>\n",
       "      <th>86</th>\n",
       "      <td>41.0</td>\n",
       "      <td>3000.0</td>\n",
       "      <td>False</td>\n",
       "      <td>True</td>\n",
       "      <td>False</td>\n",
       "      <td>False</td>\n",
       "      <td>False</td>\n",
       "      <td>True</td>\n",
       "      <td>False</td>\n",
       "      <td>False</td>\n",
       "      <td>False</td>\n",
       "      <td>True</td>\n",
       "    </tr>\n",
       "    <tr>\n",
       "      <th>93</th>\n",
       "      <td>54.0</td>\n",
       "      <td>3184.0</td>\n",
       "      <td>False</td>\n",
       "      <td>True</td>\n",
       "      <td>False</td>\n",
       "      <td>False</td>\n",
       "      <td>False</td>\n",
       "      <td>False</td>\n",
       "      <td>False</td>\n",
       "      <td>True</td>\n",
       "      <td>False</td>\n",
       "      <td>True</td>\n",
       "    </tr>\n",
       "    <tr>\n",
       "      <th>104</th>\n",
       "      <td>44.0</td>\n",
       "      <td>4034.0</td>\n",
       "      <td>False</td>\n",
       "      <td>True</td>\n",
       "      <td>False</td>\n",
       "      <td>False</td>\n",
       "      <td>False</td>\n",
       "      <td>True</td>\n",
       "      <td>False</td>\n",
       "      <td>False</td>\n",
       "      <td>False</td>\n",
       "      <td>True</td>\n",
       "    </tr>\n",
       "    <tr>\n",
       "      <th>122</th>\n",
       "      <td>44.0</td>\n",
       "      <td>3234.0</td>\n",
       "      <td>False</td>\n",
       "      <td>True</td>\n",
       "      <td>False</td>\n",
       "      <td>False</td>\n",
       "      <td>False</td>\n",
       "      <td>False</td>\n",
       "      <td>False</td>\n",
       "      <td>True</td>\n",
       "      <td>False</td>\n",
       "      <td>True</td>\n",
       "    </tr>\n",
       "    <tr>\n",
       "      <th>129</th>\n",
       "      <td>50.0</td>\n",
       "      <td>3184.0</td>\n",
       "      <td>False</td>\n",
       "      <td>True</td>\n",
       "      <td>True</td>\n",
       "      <td>False</td>\n",
       "      <td>False</td>\n",
       "      <td>False</td>\n",
       "      <td>False</td>\n",
       "      <td>False</td>\n",
       "      <td>False</td>\n",
       "      <td>True</td>\n",
       "    </tr>\n",
       "    <tr>\n",
       "      <th>138</th>\n",
       "      <td>44.0</td>\n",
       "      <td>3033.0</td>\n",
       "      <td>True</td>\n",
       "      <td>False</td>\n",
       "      <td>False</td>\n",
       "      <td>False</td>\n",
       "      <td>True</td>\n",
       "      <td>False</td>\n",
       "      <td>False</td>\n",
       "      <td>False</td>\n",
       "      <td>False</td>\n",
       "      <td>True</td>\n",
       "    </tr>\n",
       "    <tr>\n",
       "      <th>140</th>\n",
       "      <td>44.0</td>\n",
       "      <td>4034.0</td>\n",
       "      <td>False</td>\n",
       "      <td>True</td>\n",
       "      <td>False</td>\n",
       "      <td>False</td>\n",
       "      <td>False</td>\n",
       "      <td>False</td>\n",
       "      <td>True</td>\n",
       "      <td>False</td>\n",
       "      <td>False</td>\n",
       "      <td>True</td>\n",
       "    </tr>\n",
       "    <tr>\n",
       "      <th>145</th>\n",
       "      <td>44.0</td>\n",
       "      <td>4034.0</td>\n",
       "      <td>False</td>\n",
       "      <td>True</td>\n",
       "      <td>False</td>\n",
       "      <td>False</td>\n",
       "      <td>False</td>\n",
       "      <td>True</td>\n",
       "      <td>False</td>\n",
       "      <td>False</td>\n",
       "      <td>True</td>\n",
       "      <td>False</td>\n",
       "    </tr>\n",
       "  </tbody>\n",
       "</table>\n",
       "</div>"
      ],
      "text/plain": [
       "      Age  Salary  Company_CTS  Company_Infosys  Place_Calcutta  \\\n",
       "21   50.0  3184.0        False             True           False   \n",
       "32   45.0  4034.0        False             True            True   \n",
       "39   41.0  3000.0        False             True           False   \n",
       "50   41.0  3000.0        False             True           False   \n",
       "57   51.0  3184.0        False             True           False   \n",
       "68   43.0  4034.0        False             True           False   \n",
       "75   44.0  3000.0        False             True           False   \n",
       "86   41.0  3000.0        False             True           False   \n",
       "93   54.0  3184.0        False             True           False   \n",
       "104  44.0  4034.0        False             True           False   \n",
       "122  44.0  3234.0        False             True           False   \n",
       "129  50.0  3184.0        False             True            True   \n",
       "138  44.0  3033.0         True            False           False   \n",
       "140  44.0  4034.0        False             True           False   \n",
       "145  44.0  4034.0        False             True           False   \n",
       "\n",
       "     Place_Chennai  Place_Cochin  Place_Delhi  Place_Hyderabad  Place_Mumbai  \\\n",
       "21           False         False         True            False         False   \n",
       "32           False         False        False            False         False   \n",
       "39           False         False        False            False          True   \n",
       "50            True         False        False            False         False   \n",
       "57           False         False        False             True         False   \n",
       "68           False         False        False            False          True   \n",
       "75           False          True        False            False         False   \n",
       "86           False         False         True            False         False   \n",
       "93           False         False        False            False          True   \n",
       "104          False         False         True            False         False   \n",
       "122          False         False        False            False          True   \n",
       "129          False         False        False            False         False   \n",
       "138          False          True        False            False         False   \n",
       "140          False         False        False             True         False   \n",
       "145          False         False         True            False         False   \n",
       "\n",
       "     Gender_F  Gender_M  \n",
       "21      False      True  \n",
       "32      False      True  \n",
       "39      False      True  \n",
       "50      False      True  \n",
       "57      False      True  \n",
       "68      False      True  \n",
       "75      False      True  \n",
       "86      False      True  \n",
       "93      False      True  \n",
       "104     False      True  \n",
       "122     False      True  \n",
       "129     False      True  \n",
       "138     False      True  \n",
       "140     False      True  \n",
       "145      True     False  "
      ]
     },
     "execution_count": 31,
     "metadata": {},
     "output_type": "execute_result"
    }
   ],
   "source": [
    "df_one_hot_encoded=pd.get_dummies(data=df1,columns = ['Company','Place','Gender'])\n",
    "df_one_hot_encoded"
   ]
  },
  {
   "cell_type": "markdown",
   "id": "14adcbff-a6c8-4b79-bdde-5f6ae6207597",
   "metadata": {},
   "source": [
    "## Feature Scaling"
   ]
  },
  {
   "cell_type": "markdown",
   "id": "2f13bd44-30bb-4c20-b407-039cb22fc1d6",
   "metadata": {},
   "source": [
    "Standard Scaling"
   ]
  },
  {
   "cell_type": "code",
   "execution_count": 32,
   "id": "444dd5ce-e657-4382-87bc-a494c43a74a9",
   "metadata": {},
   "outputs": [
    {
     "data": {
      "text/plain": [
       "array([[ 1.2094158 , -0.50906399, -0.26726124,  0.26726124, -0.39223227,\n",
       "        -0.26726124, -0.39223227,  1.6583124 , -0.39223227, -0.60302269,\n",
       "        -0.26726124,  0.26726124],\n",
       "       [-0.08638684,  1.3926547 , -0.26726124,  0.26726124,  2.54950976,\n",
       "        -0.26726124, -0.39223227, -0.60302269, -0.39223227, -0.60302269,\n",
       "        -0.26726124,  0.26726124],\n",
       "       [-1.12302895, -0.92073015, -0.26726124,  0.26726124, -0.39223227,\n",
       "        -0.26726124, -0.39223227, -0.60302269, -0.39223227,  1.6583124 ,\n",
       "        -0.26726124,  0.26726124],\n",
       "       [-1.12302895, -0.92073015, -0.26726124,  0.26726124, -0.39223227,\n",
       "         3.74165739, -0.39223227, -0.60302269, -0.39223227, -0.60302269,\n",
       "        -0.26726124,  0.26726124],\n",
       "       [ 1.46857632, -0.50906399, -0.26726124,  0.26726124, -0.39223227,\n",
       "        -0.26726124, -0.39223227, -0.60302269,  2.54950976, -0.60302269,\n",
       "        -0.26726124,  0.26726124],\n",
       "       [-0.6047079 ,  1.3926547 , -0.26726124,  0.26726124, -0.39223227,\n",
       "        -0.26726124, -0.39223227, -0.60302269, -0.39223227,  1.6583124 ,\n",
       "        -0.26726124,  0.26726124],\n",
       "       [-0.34554737, -0.92073015, -0.26726124,  0.26726124, -0.39223227,\n",
       "        -0.26726124,  2.54950976, -0.60302269, -0.39223227, -0.60302269,\n",
       "        -0.26726124,  0.26726124],\n",
       "       [-1.12302895, -0.92073015, -0.26726124,  0.26726124, -0.39223227,\n",
       "        -0.26726124, -0.39223227,  1.6583124 , -0.39223227, -0.60302269,\n",
       "        -0.26726124,  0.26726124],\n",
       "       [ 2.24605791, -0.50906399, -0.26726124,  0.26726124, -0.39223227,\n",
       "        -0.26726124, -0.39223227, -0.60302269, -0.39223227,  1.6583124 ,\n",
       "        -0.26726124,  0.26726124],\n",
       "       [-0.34554737,  1.3926547 , -0.26726124,  0.26726124, -0.39223227,\n",
       "        -0.26726124, -0.39223227,  1.6583124 , -0.39223227, -0.60302269,\n",
       "        -0.26726124,  0.26726124],\n",
       "       [-0.34554737, -0.39719819, -0.26726124,  0.26726124, -0.39223227,\n",
       "        -0.26726124, -0.39223227, -0.60302269, -0.39223227,  1.6583124 ,\n",
       "        -0.26726124,  0.26726124],\n",
       "       [ 1.2094158 , -0.50906399, -0.26726124,  0.26726124,  2.54950976,\n",
       "        -0.26726124, -0.39223227, -0.60302269, -0.39223227, -0.60302269,\n",
       "        -0.26726124,  0.26726124],\n",
       "       [-0.34554737, -0.84689872,  3.74165739, -3.74165739, -0.39223227,\n",
       "        -0.26726124,  2.54950976, -0.60302269, -0.39223227, -0.60302269,\n",
       "        -0.26726124,  0.26726124],\n",
       "       [-0.34554737,  1.3926547 , -0.26726124,  0.26726124, -0.39223227,\n",
       "        -0.26726124, -0.39223227, -0.60302269,  2.54950976, -0.60302269,\n",
       "        -0.26726124,  0.26726124],\n",
       "       [-0.34554737,  1.3926547 , -0.26726124,  0.26726124, -0.39223227,\n",
       "        -0.26726124, -0.39223227,  1.6583124 , -0.39223227, -0.60302269,\n",
       "         3.74165739, -3.74165739]])"
      ]
     },
     "execution_count": 32,
     "metadata": {},
     "output_type": "execute_result"
    }
   ],
   "source": [
    "scaler = StandardScaler()\n",
    "scaler.fit(df_one_hot_encoded)\n",
    "scaled_data_st = scaler.transform(df_one_hot_encoded)\n",
    "scaled_data_st"
   ]
  },
  {
   "cell_type": "markdown",
   "id": "a6590048-58ea-4f41-a86b-8199365206c0",
   "metadata": {},
   "source": [
    "MinMax Scaling"
   ]
  },
  {
   "cell_type": "code",
   "execution_count": 33,
   "id": "31f715e3-061c-45a3-9504-cb689a5e3c11",
   "metadata": {},
   "outputs": [
    {
     "data": {
      "text/plain": [
       "array([[0.69230769, 0.17794971, 0.        , 1.        , 0.        ,\n",
       "        0.        , 0.        , 1.        , 0.        , 0.        ,\n",
       "        0.        , 1.        ],\n",
       "       [0.30769231, 1.        , 0.        , 1.        , 1.        ,\n",
       "        0.        , 0.        , 0.        , 0.        , 0.        ,\n",
       "        0.        , 1.        ],\n",
       "       [0.        , 0.        , 0.        , 1.        , 0.        ,\n",
       "        0.        , 0.        , 0.        , 0.        , 1.        ,\n",
       "        0.        , 1.        ],\n",
       "       [0.        , 0.        , 0.        , 1.        , 0.        ,\n",
       "        1.        , 0.        , 0.        , 0.        , 0.        ,\n",
       "        0.        , 1.        ],\n",
       "       [0.76923077, 0.17794971, 0.        , 1.        , 0.        ,\n",
       "        0.        , 0.        , 0.        , 1.        , 0.        ,\n",
       "        0.        , 1.        ],\n",
       "       [0.15384615, 1.        , 0.        , 1.        , 0.        ,\n",
       "        0.        , 0.        , 0.        , 0.        , 1.        ,\n",
       "        0.        , 1.        ],\n",
       "       [0.23076923, 0.        , 0.        , 1.        , 0.        ,\n",
       "        0.        , 1.        , 0.        , 0.        , 0.        ,\n",
       "        0.        , 1.        ],\n",
       "       [0.        , 0.        , 0.        , 1.        , 0.        ,\n",
       "        0.        , 0.        , 1.        , 0.        , 0.        ,\n",
       "        0.        , 1.        ],\n",
       "       [1.        , 0.17794971, 0.        , 1.        , 0.        ,\n",
       "        0.        , 0.        , 0.        , 0.        , 1.        ,\n",
       "        0.        , 1.        ],\n",
       "       [0.23076923, 1.        , 0.        , 1.        , 0.        ,\n",
       "        0.        , 0.        , 1.        , 0.        , 0.        ,\n",
       "        0.        , 1.        ],\n",
       "       [0.23076923, 0.22630561, 0.        , 1.        , 0.        ,\n",
       "        0.        , 0.        , 0.        , 0.        , 1.        ,\n",
       "        0.        , 1.        ],\n",
       "       [0.69230769, 0.17794971, 0.        , 1.        , 1.        ,\n",
       "        0.        , 0.        , 0.        , 0.        , 0.        ,\n",
       "        0.        , 1.        ],\n",
       "       [0.23076923, 0.03191489, 1.        , 0.        , 0.        ,\n",
       "        0.        , 1.        , 0.        , 0.        , 0.        ,\n",
       "        0.        , 1.        ],\n",
       "       [0.23076923, 1.        , 0.        , 1.        , 0.        ,\n",
       "        0.        , 0.        , 0.        , 1.        , 0.        ,\n",
       "        0.        , 1.        ],\n",
       "       [0.23076923, 1.        , 0.        , 1.        , 0.        ,\n",
       "        0.        , 0.        , 1.        , 0.        , 0.        ,\n",
       "        1.        , 0.        ]])"
      ]
     },
     "execution_count": 33,
     "metadata": {},
     "output_type": "execute_result"
    }
   ],
   "source": [
    "scaler = MinMaxScaler()\n",
    "scaler.fit(df_one_hot_encoded)\n",
    "scaled_data_mm = scaler.transform(df_one_hot_encoded)\n",
    "scaled_data_mm"
   ]
  },
  {
   "cell_type": "markdown",
   "id": "6461ee1b-5024-448a-a83e-1f0ce12a79c1",
   "metadata": {},
   "source": [
    "Standard Scaling and MinMax Scaling is used to scale the encoded dataframe"
   ]
  },
  {
   "cell_type": "code",
   "execution_count": null,
   "id": "a40d41bf-203b-44a3-b919-8614f074b1e9",
   "metadata": {},
   "outputs": [],
   "source": []
  }
 ],
 "metadata": {
  "kernelspec": {
   "display_name": "Python 3 (ipykernel)",
   "language": "python",
   "name": "python3"
  },
  "language_info": {
   "codemirror_mode": {
    "name": "ipython",
    "version": 3
   },
   "file_extension": ".py",
   "mimetype": "text/x-python",
   "name": "python",
   "nbconvert_exporter": "python",
   "pygments_lexer": "ipython3",
   "version": "3.11.5"
  }
 },
 "nbformat": 4,
 "nbformat_minor": 5
}
